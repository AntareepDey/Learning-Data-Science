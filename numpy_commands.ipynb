{
 "cells": [
  {
   "cell_type": "code",
   "execution_count": 17,
   "metadata": {},
   "outputs": [
    {
     "name": "stdout",
     "output_type": "stream",
     "text": [
      "[[ 1  2  3  4  5]\n",
      " [ 6  7  8  9 10]\n",
      " [11 12 13 14 15]]\n"
     ]
    }
   ],
   "source": [
    "import numpy as np\n",
    "arr=[[1,2,3,4,5],[6,7,8,9,10],[11,12,13,14,15]]\n",
    "arr=np.array(arr)\n",
    "print(arr)"
   ]
  },
  {
   "cell_type": "markdown",
   "metadata": {},
   "source": [
    "Getting the shape of a numpy Array "
   ]
  },
  {
   "cell_type": "code",
   "execution_count": 18,
   "metadata": {},
   "outputs": [
    {
     "data": {
      "text/plain": [
       "(3, 5)"
      ]
     },
     "execution_count": 18,
     "metadata": {},
     "output_type": "execute_result"
    }
   ],
   "source": [
    "arr.shape()"
   ]
  },
  {
   "cell_type": "markdown",
   "metadata": {},
   "source": [
    "Reshaping an array"
   ]
  },
  {
   "cell_type": "code",
   "execution_count": 31,
   "metadata": {},
   "outputs": [
    {
     "name": "stdout",
     "output_type": "stream",
     "text": [
      "[[ 1  2  3]\n",
      " [ 4  5  6]\n",
      " [ 7  8  9]\n",
      " [10 11 12]\n",
      " [13 14 15]]\n"
     ]
    }
   ],
   "source": [
    "arr=arr.reshape(5,3) \n",
    "print(arr)    #multiplication of arguements should be equal to the number of elements in the array"
   ]
  },
  {
   "cell_type": "markdown",
   "metadata": {},
   "source": [
    "Indexing of an array"
   ]
  },
  {
   "cell_type": "code",
   "execution_count": 32,
   "metadata": {},
   "outputs": [
    {
     "data": {
      "text/plain": [
       "array([[5, 6],\n",
       "       [8, 9]])"
      ]
     },
     "execution_count": 32,
     "metadata": {},
     "output_type": "execute_result"
    }
   ],
   "source": [
    "arr[1:3,1:]        #arr[row_start:row_end,column_start:column_end]"
   ]
  },
  {
   "cell_type": "markdown",
   "metadata": {},
   "source": [
    "Create array based on start and end points"
   ]
  },
  {
   "cell_type": "code",
   "execution_count": 33,
   "metadata": {},
   "outputs": [
    {
     "name": "stdout",
     "output_type": "stream",
     "text": [
      "[1 2 3 4 5 6 7 8 9]\n"
     ]
    }
   ],
   "source": [
    "arr=np.arange(1,10,2)    #np.arange(start,end,step)\n",
    "print(arr)"
   ]
  },
  {
   "cell_type": "code",
   "execution_count": 36,
   "metadata": {},
   "outputs": [
    {
     "name": "stdout",
     "output_type": "stream",
     "text": [
      "[ 2.          3.47368421  4.94736842  6.42105263  7.89473684  9.36842105\n",
      " 10.84210526 12.31578947 13.78947368 15.26315789 16.73684211 18.21052632\n",
      " 19.68421053 21.15789474 22.63157895 24.10526316 25.57894737 27.05263158\n",
      " 28.52631579 30.        ]\n"
     ]
    }
   ],
   "source": [
    "arr=np.linspace(2,30,20)  #np.linspace(start,end,no_of_points)\n",
    "print(arr)"
   ]
  },
  {
   "cell_type": "markdown",
   "metadata": {},
   "source": [
    "Important for EDA"
   ]
  },
  {
   "cell_type": "code",
   "execution_count": 40,
   "metadata": {},
   "outputs": [
    {
     "name": "stdout",
     "output_type": "stream",
     "text": [
      "[False False False  True  True  True  True  True  True  True  True  True\n",
      "  True  True  True  True  True  True  True  True]\n",
      "[ 6.42105263  7.89473684  9.36842105 10.84210526 12.31578947 13.78947368\n",
      " 15.26315789 16.73684211 18.21052632 19.68421053 21.15789474 22.63157895\n",
      " 24.10526316 25.57894737 27.05263158 28.52631579 30.        ]\n"
     ]
    }
   ],
   "source": [
    "#comparing which values in an array are greater than 5\n",
    "val=5\n",
    "print(arr>5)\n",
    "\n",
    "#check which values\n",
    "print(arr[arr>5])"
   ]
  },
  {
   "cell_type": "code",
   "execution_count": 38,
   "metadata": {},
   "outputs": [
    {
     "name": "stdout",
     "output_type": "stream",
     "text": [
      "[ 4.          6.94736842  9.89473684 12.84210526 15.78947368 18.73684211\n",
      " 21.68421053 24.63157895 27.57894737 30.52631579 33.47368421 36.42105263\n",
      " 39.36842105 42.31578947 45.26315789 48.21052632 51.15789474 54.10526316\n",
      " 57.05263158 60.        ]\n"
     ]
    }
   ],
   "source": [
    "#operations on each element of an array\n",
    "print(arr*2)"
   ]
  },
  {
   "cell_type": "markdown",
   "metadata": {},
   "source": [
    "Special methods of creating arrays"
   ]
  },
  {
   "cell_type": "code",
   "execution_count": 43,
   "metadata": {},
   "outputs": [
    {
     "name": "stdout",
     "output_type": "stream",
     "text": [
      "[[1 1 1 1]\n",
      " [1 1 1 1]]\n",
      "[[0 0 0 0]\n",
      " [0 0 0 0]]\n"
     ]
    }
   ],
   "source": [
    "#np.ones((row,column),dtype)\n",
    "zero=np.zeros((2,4),dtype=int)         \n",
    "one=np.ones((2,4),dtype=int)         #default dtype is float\n",
    "print(one,zero,sep=\"\\n\")  "
   ]
  },
  {
   "cell_type": "markdown",
   "metadata": {},
   "source": [
    "Creating a random sampling based on *uniform distribution* of a given shape"
   ]
  },
  {
   "cell_type": "code",
   "execution_count": 44,
   "metadata": {},
   "outputs": [
    {
     "name": "stdout",
     "output_type": "stream",
     "text": [
      "[[0.48733212 0.72900482 0.92676272]\n",
      " [0.35095981 0.75504823 0.43761832]]\n"
     ]
    }
   ],
   "source": [
    "print(np.random.rand(2,3))   #random values between 0 and 1 of shape (2,3)"
   ]
  },
  {
   "cell_type": "markdown",
   "metadata": {},
   "source": [
    "Creating a random sampling based on *standard normal distribution* of given shape"
   ]
  },
  {
   "cell_type": "code",
   "execution_count": 45,
   "metadata": {},
   "outputs": [
    {
     "name": "stdout",
     "output_type": "stream",
     "text": [
      "[[ 0.85693999 -1.76335877  0.05692101]\n",
      " [ 0.97323477  0.91243777  0.09809171]]\n"
     ]
    }
   ],
   "source": [
    "print(np.random.randn(2,3))   #random values between -1 and 1 of shape (2,3)"
   ]
  },
  {
   "cell_type": "code",
   "execution_count": null,
   "metadata": {},
   "outputs": [],
   "source": []
  }
 ],
 "metadata": {
  "kernelspec": {
   "display_name": "Python 3",
   "language": "python",
   "name": "python3"
  },
  "language_info": {
   "codemirror_mode": {
    "name": "ipython",
    "version": 3
   },
   "file_extension": ".py",
   "mimetype": "text/x-python",
   "name": "python",
   "nbconvert_exporter": "python",
   "pygments_lexer": "ipython3",
   "version": "3.11.2"
  }
 },
 "nbformat": 4,
 "nbformat_minor": 2
}
