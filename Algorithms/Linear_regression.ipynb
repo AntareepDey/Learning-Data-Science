{
 "cells": [
  {
   "cell_type": "markdown",
   "metadata": {},
   "source": [
    "IMPORTING LIBRARIES "
   ]
  },
  {
   "cell_type": "code",
   "execution_count": 1,
   "metadata": {},
   "outputs": [],
   "source": [
    "#import seaborn and matplotlib and numpy\n",
    "import seaborn as sns\n",
    "import matplotlib.pyplot as plt\n",
    "import numpy as np\n",
    "import random "
   ]
  },
  {
   "cell_type": "markdown",
   "metadata": {},
   "source": [
    "LOADING THE DATASET"
   ]
  },
  {
   "cell_type": "code",
   "execution_count": null,
   "metadata": {},
   "outputs": [],
   "source": [
    "data=sns.load_dataset('tips')"
   ]
  },
  {
   "cell_type": "markdown",
   "metadata": {},
   "source": [
    "Cheking out the data "
   ]
  },
  {
   "cell_type": "code",
   "execution_count": null,
   "metadata": {},
   "outputs": [],
   "source": [
    "data.head()"
   ]
  },
  {
   "cell_type": "markdown",
   "metadata": {},
   "source": [
    "Selecting features and normalizing values"
   ]
  },
  {
   "cell_type": "code",
   "execution_count": null,
   "metadata": {},
   "outputs": [],
   "source": [
    "X=np.array(data['total_bill'])\n",
    "Y=np.array(data['tip'])\n",
    "#normalizing values of X and Y\n",
    "X=(X - X.mean()) / X.std()\n",
    "Y=(Y - Y.mean()) / Y.std()\n",
    "sns.scatterplot(x=X,y=Y)"
   ]
  },
  {
   "cell_type": "markdown",
   "metadata": {},
   "source": [
    "Writing some functions that show the prediction of Y and the cost function "
   ]
  },
  {
   "cell_type": "code",
   "execution_count": null,
   "metadata": {},
   "outputs": [],
   "source": [
    "# predicts the values of Y for different X, for a given w and b\n",
    "def predictY(w,b,X):\n",
    "  Yp=np.dot(w,X)+b\n",
    "  return Yp\n",
    "\n",
    "#function that returns the cost of the model (in this case the mean squared error)\n",
    "def cost(w,b,X,Y):\n",
    "  Yp=predictY(w,b,X)\n",
    "  mse=(1/len(Y))*(np.sum((Yp-Y)**2))\n",
    "  return mse"
   ]
  },
  {
   "cell_type": "markdown",
   "metadata": {},
   "source": [
    "Plotting the cost function in 3D"
   ]
  },
  {
   "cell_type": "code",
   "execution_count": null,
   "metadata": {},
   "outputs": [],
   "source": [
    "#find all the possible costs for all the possible weights and biases\n",
    "W,B = np.arange(-100, 100, 5), np.arange(-100, 100, 5)\n",
    "costs=[]\n",
    "for i in W:\n",
    "  for j in B:\n",
    "    costs.append(cost(i,j,Y,X))\n",
    "\n",
    "costs=np.array(costs)\n",
    "#generating the surface plot\n",
    "costs = costs.reshape(40,40)\n",
    "fig = plt.figure(figsize=(10, 8))\n",
    "ax = fig.add_subplot(111, projection='3d')\n",
    "ax.plot_surface(B,W, costs, cmap='viridis')\n",
    "\n",
    "# Configure plot aesthetics\n",
    "ax.set_ylabel(\"Weight (w)\")\n",
    "ax.set_xlabel(\"Bias (b)\")\n",
    "ax.set_zlabel(\"Mean Squared Error (MSE)\")\n",
    "ax.set_title(\"Surface Plot of MSE for Different Weights and Biases\")"
   ]
  },
  {
   "cell_type": "code",
   "execution_count": null,
   "metadata": {},
   "outputs": [],
   "source": [
    "# starting with a random wieght and bias\n",
    "w = random.randrange(-100,100)\n",
    "b= random.randrange(-100,100)\n",
    "initcost=cost(w,b,X,Y)\n",
    "print(\"Initial Weight:\",w)\n",
    "print(\"Initial Bias:\",b)\n",
    "\n",
    "learning_rate=0.01\n",
    "epochs=500\n",
    "costlist=[]\n",
    "iterlist=[]\n",
    "costlist.append(initcost)\n",
    "iterlist.append((0,w,b))\n",
    "\n",
    "print(costlist)\n",
    "print(iterlist)"
   ]
  },
  {
   "cell_type": "code",
   "execution_count": null,
   "metadata": {},
   "outputs": [],
   "source": [
    "#single linear regression \n",
    "for i in range(1,epochs):\n",
    "    yp=predictY(w,b,X)\n",
    "    w=w-learning_rate*(1/len(X))*(np.dot((yp-Y),X)*2)\n",
    "    b=b-learning_rate*(1/len(X))*(np.sum(yp-Y)*2)\n",
    "    newcost=cost(w,b,X,Y)\n",
    "    costlist.append(cost(w,b,X,Y))\n",
    "    iterlist.append((i,w,b))\n",
    "\n",
    "print(\"Final Weight:\",w)\n",
    "print(\"Final Bias:\",b)\n",
    "print(\"Final Cost:\",cost(w,b,X,Y))\n",
    "\n",
    "#plotting the cost function\n",
    "sns.lineplot(x= (X[0] for X in iterlist),y=costlist)"
   ]
  },
  {
   "cell_type": "markdown",
   "metadata": {},
   "source": [
    "OPTIMIZED VERSION"
   ]
  },
  {
   "cell_type": "code",
   "execution_count": null,
   "metadata": {},
   "outputs": [],
   "source": [
    "#same as before\n",
    "w = random.randrange(-100,100)\n",
    "b= random.randrange(-100,100)\n",
    "initcost=cost(w,b,X,Y)\n",
    "\n",
    "print(\"Initial Weight:\",w)\n",
    "print(\"Initial Bias:\",b)\n",
    "\n",
    "learning_rate=0.01\n",
    "epochs=500\n",
    "\n",
    "costlist=[]\n",
    "iterlist=[]\n",
    "\n",
    "#using a precision of 8 decimal places.\n",
    "costlist.append(round(initcost,8))\n",
    "iterlist.append((0,w,b))\n",
    "\n",
    "print(costlist)\n",
    "print(iterlist)"
   ]
  },
  {
   "cell_type": "code",
   "execution_count": null,
   "metadata": {},
   "outputs": [],
   "source": [
    "for i in range(1,epochs):\n",
    "    yp=predictY(w,b,X)\n",
    "    w=w-learning_rate*(1/len(X))*(np.dot((yp-Y),X)*2)\n",
    "    b=b-learning_rate*(1/len(X))*(np.sum(yp-Y)*2)\n",
    "    curr_cost=round(cost(w,b,X,Y),8)\n",
    "    if curr_cost == costlist[-1]:    #if the cost is not changing, break the loop\n",
    "      costlist.append(curr_cost)\n",
    "      iterlist.append((i,w,b))\n",
    "      break\n",
    "    else:\n",
    "      costlist.append(curr_cost)\n",
    "      iterlist.append((i,w,b))  \n",
    "\n",
    "print(\"Final Weight:\",w)\n",
    "print(\"Final Bias:\",b)\n",
    "print(\"Final Cost:\",curr_cost)\n",
    "\n",
    "#plotting the cost function\n",
    "sns.lineplot(x= (X[0] for X in iterlist),y=costlist)"
   ]
  }
 ],
 "metadata": {
  "kernelspec": {
   "display_name": "Python 3",
   "language": "python",
   "name": "python3"
  },
  "language_info": {
   "codemirror_mode": {
    "name": "ipython",
    "version": 3
   },
   "file_extension": ".py",
   "mimetype": "text/x-python",
   "name": "python",
   "nbconvert_exporter": "python",
   "pygments_lexer": "ipython3",
   "version": "3.11.7"
  }
 },
 "nbformat": 4,
 "nbformat_minor": 2
}
