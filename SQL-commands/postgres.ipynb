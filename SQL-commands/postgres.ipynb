{
 "cells": [
  {
   "cell_type": "code",
   "execution_count": 22,
   "metadata": {},
   "outputs": [],
   "source": [
    "import psycopg2\n"
   ]
  },
  {
   "cell_type": "markdown",
   "metadata": {},
   "source": [
    "Create a Database"
   ]
  },
  {
   "cell_type": "code",
   "execution_count": null,
   "metadata": {},
   "outputs": [],
   "source": [
    "conn = psycopg2.connect(\n",
    "    host=\"localhost\",\n",
    "    database=\"megadata\",\n",
    "    user=\"postgres\",\n",
    "    port=8080,\n",
    "    password=\"admin\")\n",
    "\n",
    "cur=conn.cursor()\n",
    "\n",
    "if conn:\n",
    "    print(\"Connected to database successfully\")\n",
    "    # cur.execute(\"create table employee if not exists (id serial primary key, name varchar(20), salary int);\")\n",
    "    # cur.commit()\n",
    "else:\n",
    "    print(\"Connection failed\")\n",
    "\n",
    "conn.close()\n",
    "cur.close()"
   ]
  },
  {
   "cell_type": "markdown",
   "metadata": {},
   "source": []
  },
  {
   "cell_type": "markdown",
   "metadata": {},
   "source": [
    "Enter Details"
   ]
  },
  {
   "cell_type": "code",
   "execution_count": 34,
   "metadata": {},
   "outputs": [
    {
     "name": "stdout",
     "output_type": "stream",
     "text": [
      "Table created successfully\n"
     ]
    }
   ],
   "source": [
    "conn = psycopg2.connect(\n",
    "    host=\"localhost\",\n",
    "    database=\"megadata\",\n",
    "    user=\"postgres\",\n",
    "    port=8080,\n",
    "    password=\"admin\")\n",
    "\n",
    "cur=conn.cursor()\n",
    "\n",
    "if conn:\n",
    "    cur.execute(\"insert into employee ()name, salary values ('Emily', 3000);\")\n",
    "    cur.execute(\"insert into employee (name, salary) values ('Jack', 5000);\")\n",
    "    cur.execute(\"insert into employee (name, salary) values ('Sydney', 6000);\")\n",
    "    conn.commit()\n",
    "else:\n",
    "    print(\"Connection failed\")\n",
    "\n",
    "conn.close()\n",
    "cur.close()\n"
   ]
  },
  {
   "cell_type": "markdown",
   "metadata": {},
   "source": [
    "Function to show All records"
   ]
  },
  {
   "cell_type": "code",
   "execution_count": 17,
   "metadata": {},
   "outputs": [],
   "source": [
    "def show():\n",
    "    cur.execute(\"select * from employee;\")\n",
    "    rows=cur.fetchall()\n",
    "    for row in rows:\n",
    "        print(row)"
   ]
  },
  {
   "cell_type": "markdown",
   "metadata": {},
   "source": [
    "Show All Records"
   ]
  },
  {
   "cell_type": "code",
   "execution_count": 18,
   "metadata": {},
   "outputs": [
    {
     "name": "stdout",
     "output_type": "stream",
     "text": [
      "(5, 'David', 8000)\n",
      "(6, 'Nick', 9000)\n",
      "(4, 'John', 10000)\n"
     ]
    }
   ],
   "source": [
    "conn = psycopg2.connect(\n",
    "    host=\"localhost\",\n",
    "    database=\"megadata\",\n",
    "    user=\"postgres\",\n",
    "    port=8080,\n",
    "    password=\"admin\")\n",
    "\n",
    "cur=conn.cursor()\n",
    "if conn:\n",
    "    show()\n",
    "else:\n",
    "    print(\"Connection failed\")\n",
    "conn.close()\n",
    "cur.close()"
   ]
  },
  {
   "cell_type": "markdown",
   "metadata": {},
   "source": [
    "Update Records"
   ]
  },
  {
   "cell_type": "code",
   "execution_count": 25,
   "metadata": {},
   "outputs": [
    {
     "name": "stdout",
     "output_type": "stream",
     "text": [
      "(5, 'David', 8000)\n",
      "(6, 'Nick', 9000)\n",
      "(4, 'John', 30000)\n",
      "----------After Update----------\n",
      "(5, 'David', 8000)\n",
      "(6, 'Nick', 9000)\n",
      "(4, 'John', 30000)\n",
      "Table updated successfully\n"
     ]
    }
   ],
   "source": [
    "\n",
    "conn = psycopg2.connect(\n",
    "    host=\"localhost\",\n",
    "    database=\"megadata\",\n",
    "    user=\"postgres\",\n",
    "    port=8080,\n",
    "    password=\"admin\")\n",
    "\n",
    "cur=conn.cursor()\n",
    "\n",
    "if conn:\n",
    "    show()\n",
    "    cur.execute(\"update employee set salary=30000 where name='John';\")\n",
    "    conn.commit()\n",
    "    print(\"----------After Update----------\")\n",
    "    show()\n",
    "    print(\"Table updated successfully\")    \n",
    "else:\n",
    "    print(\"Connection failed\")\n",
    "\n",
    "\n",
    "conn.close()\n",
    "cur.close()\n",
    "    "
   ]
  },
  {
   "cell_type": "markdown",
   "metadata": {},
   "source": [
    "Delete an entry"
   ]
  },
  {
   "cell_type": "code",
   "execution_count": 28,
   "metadata": {},
   "outputs": [
    {
     "name": "stdout",
     "output_type": "stream",
     "text": [
      "(5, 'David', 8000)\n",
      "(6, 'Nick', 9000)\n",
      "(4, 'John', 30000)\n",
      "----------After Update----------\n",
      "(5, 'David', 8000)\n",
      "(6, 'Nick', 9000)\n",
      "Table updated successfully\n"
     ]
    }
   ],
   "source": [
    "conn = psycopg2.connect(\n",
    "    host=\"localhost\",\n",
    "    database=\"megadata\",\n",
    "    user=\"postgres\",\n",
    "    port=8080,\n",
    "    password=\"admin\")\n",
    "\n",
    "cur=conn.cursor()\n",
    "\n",
    "if conn:\n",
    "    show()\n",
    "    cur.execute(\"delete from employee where name='John';\")\n",
    "    conn.commit()\n",
    "    print(\"----------After Update----------\")\n",
    "    show()\n",
    "    print(\"Table updated successfully\")    \n",
    "else:\n",
    "    print(\"Connection failed\")\n",
    "\n",
    "\n",
    "conn.close()\n",
    "cur.close()"
   ]
  },
  {
   "cell_type": "markdown",
   "metadata": {},
   "source": [
    "Alter Table"
   ]
  },
  {
   "cell_type": "code",
   "execution_count": 29,
   "metadata": {},
   "outputs": [
    {
     "name": "stdout",
     "output_type": "stream",
     "text": [
      "(5, 'David', 8000)\n",
      "(6, 'Nick', 9000)\n",
      "----------After Update----------\n",
      "(5, 'David', 8000, None)\n",
      "(6, 'Nick', 9000, None)\n",
      "Table updated successfully\n"
     ]
    }
   ],
   "source": [
    "conn = psycopg2.connect(\n",
    "    host=\"localhost\",\n",
    "    database=\"megadata\",\n",
    "    user=\"postgres\",\n",
    "    port=8080,\n",
    "    password=\"admin\")\n",
    "\n",
    "cur=conn.cursor()\n",
    "\n",
    "if conn:\n",
    "    show()\n",
    "    cur.execute(\"alter table employee add email varchar(25);\")\n",
    "    conn.commit()\n",
    "    print(\"----------After Update----------\")\n",
    "    show()\n",
    "    print(\"Table updated successfully\")    \n",
    "else:\n",
    "    print(\"Connection failed\")\n",
    "\n",
    "\n",
    "conn.close()\n",
    "cur.close()"
   ]
  },
  {
   "cell_type": "markdown",
   "metadata": {},
   "source": [
    "Alter And drop"
   ]
  },
  {
   "cell_type": "code",
   "execution_count": 33,
   "metadata": {},
   "outputs": [
    {
     "name": "stdout",
     "output_type": "stream",
     "text": [
      "(5, 'David', 8000, None)\n",
      "(6, 'Nick', 9000, None)\n",
      "----------After Update----------\n",
      "(5, 'David', 8000)\n",
      "(6, 'Nick', 9000)\n",
      "Table updated successfully\n"
     ]
    }
   ],
   "source": [
    "conn = psycopg2.connect(\n",
    "    host=\"localhost\",\n",
    "    database=\"megadata\",\n",
    "    user=\"postgres\",\n",
    "    port=8080,\n",
    "    password=\"admin\")\n",
    "\n",
    "cur=conn.cursor()\n",
    "\n",
    "if conn:\n",
    "    show()\n",
    "    cur.execute(\"alter table employee drop email;\")\n",
    "    conn.commit()\n",
    "    print(\"----------After Update----------\")\n",
    "    show()\n",
    "    print(\"Table updated successfully\")    \n",
    "else:\n",
    "    print(\"Connection failed\")\n",
    "\n",
    "\n",
    "conn.close()\n",
    "cur.close()"
   ]
  },
  {
   "cell_type": "markdown",
   "metadata": {},
   "source": [
    "Setting a column as Unique"
   ]
  },
  {
   "cell_type": "code",
   "execution_count": 36,
   "metadata": {},
   "outputs": [
    {
     "name": "stdout",
     "output_type": "stream",
     "text": [
      "(5, 'David', 8000)\n",
      "(6, 'Nick', 9000)\n",
      "(7, 'Emily', 3000)\n",
      "(8, 'Jack', 5000)\n",
      "(9, 'Sydney', 6000)\n",
      "----------After Update----------\n",
      "(5, 'David', 8000)\n",
      "(6, 'Nick', 9000)\n",
      "(7, 'Emily', 3000)\n",
      "(8, 'Jack', 5000)\n",
      "(9, 'Sydney', 6000)\n",
      "Table updated successfully\n"
     ]
    }
   ],
   "source": [
    "conn = psycopg2.connect(\n",
    "    host=\"localhost\",\n",
    "    database=\"megadata\",\n",
    "    user=\"postgres\",\n",
    "    port=8080,\n",
    "    password=\"admin\")\n",
    "\n",
    "cur=conn.cursor()\n",
    "\n",
    "if conn:\n",
    "    show()\n",
    "    cur.execute(\"alter table employee add unique(id)\")\n",
    "    conn.commit()\n",
    "    print(\"----------After Update----------\")\n",
    "    show()\n",
    "    print(\"Table updated successfully\")    \n",
    "else:\n",
    "    print(\"Connection failed\")\n",
    "\n",
    "\n",
    "conn.close()\n",
    "cur.close()"
   ]
  }
 ],
 "metadata": {
  "kernelspec": {
   "display_name": "Python 3",
   "language": "python",
   "name": "python3"
  },
  "language_info": {
   "codemirror_mode": {
    "name": "ipython",
    "version": 3
   },
   "file_extension": ".py",
   "mimetype": "text/x-python",
   "name": "python",
   "nbconvert_exporter": "python",
   "pygments_lexer": "ipython3",
   "version": "3.11.2"
  }
 },
 "nbformat": 4,
 "nbformat_minor": 2
}
